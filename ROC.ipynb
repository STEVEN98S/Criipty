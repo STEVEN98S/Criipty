{
 "cells": [
  {
   "cell_type": "code",
   "execution_count": 11,
   "metadata": {},
   "outputs": [],
   "source": [
    "import numpy\n",
    "import websockets\n",
    "import json     \n",
    "import pandas as pd\n",
    "import asyncio\n",
    "import ta\n",
    "from binance.client import Client\n",
    "\n",
    "%run Keys.py #* our binance keys \n",
    "\n",
    "client = Client(api_key,secret_key)"
   ]
  },
  {
   "cell_type": "code",
   "execution_count": 3,
   "metadata": {},
   "outputs": [],
   "source": [
    "stream = websockets.connect('wss://stream.binance.com:9443/stream?streams=adausdt@miniTicker')\n",
    "            "
   ]
  },
  {
   "cell_type": "code",
   "execution_count": 4,
   "metadata": {},
   "outputs": [],
   "source": [
    "def createframe(msg):\n",
    "    df = pd.DataFrame([msg])\n",
    "    df = df.loc[:,['s','E','c']]\n",
    "    df.columns =['symbol','Time','Price']\n",
    "    df.Price = df.Price.astype(float)\n",
    "    df.Time = pd.to_datetime(df.Time, unit= 'ms')\n",
    "\n",
    "    return df"
   ]
  },
  {
   "cell_type": "code",
   "execution_count": 5,
   "metadata": {},
   "outputs": [
    {
     "ename": "CancelledError",
     "evalue": "",
     "output_type": "error",
     "traceback": [
      "\u001b[1;31m---------------------------------------------------------------------------\u001b[0m",
      "\u001b[1;31mCancelledError\u001b[0m                            Traceback (most recent call last)",
      "Input \u001b[1;32mIn [5]\u001b[0m, in \u001b[0;36m<module>\u001b[1;34m\u001b[0m\n\u001b[0;32m      1\u001b[0m df \u001b[38;5;241m=\u001b[39m pd\u001b[38;5;241m.\u001b[39mDataFrame()\n\u001b[0;32m      2\u001b[0m open_position \u001b[38;5;241m=\u001b[39m \u001b[38;5;28;01mFalse\u001b[39;00m\n\u001b[1;32m----> 4\u001b[0m \u001b[38;5;28;01masync\u001b[39;00m \u001b[38;5;28;01mwith\u001b[39;00m stream \u001b[38;5;28;01mas\u001b[39;00m receiver:\n\u001b[0;32m      5\u001b[0m     \u001b[38;5;28;01mwhile\u001b[39;00m \u001b[38;5;28;01mTrue\u001b[39;00m:\n\u001b[0;32m      6\u001b[0m         data \u001b[38;5;241m=\u001b[39m \u001b[38;5;28;01mawait\u001b[39;00m receiver\u001b[38;5;241m.\u001b[39mrecv()\n",
      "File \u001b[1;32mc:\\Users\\a2015\\Desktop\\BTC NN\\Program\\virtual\\lib\\site-packages\\websockets\\legacy\\client.py:604\u001b[0m, in \u001b[0;36mConnect.__aenter__\u001b[1;34m(self)\u001b[0m\n\u001b[0;32m    603\u001b[0m \u001b[38;5;28;01masync\u001b[39;00m \u001b[38;5;28;01mdef\u001b[39;00m \u001b[38;5;21m__aenter__\u001b[39m(\u001b[38;5;28mself\u001b[39m) \u001b[38;5;241m-\u001b[39m\u001b[38;5;241m>\u001b[39m WebSocketClientProtocol:\n\u001b[1;32m--> 604\u001b[0m     \u001b[38;5;28;01mreturn\u001b[39;00m \u001b[38;5;28;01mawait\u001b[39;00m \u001b[38;5;28mself\u001b[39m\n",
      "File \u001b[1;32mc:\\Users\\a2015\\Desktop\\BTC NN\\Program\\virtual\\lib\\site-packages\\websockets\\legacy\\client.py:622\u001b[0m, in \u001b[0;36mConnect.__await_impl__\u001b[1;34m(self)\u001b[0m\n\u001b[0;32m    620\u001b[0m \u001b[38;5;28;01masync\u001b[39;00m \u001b[38;5;28;01mdef\u001b[39;00m \u001b[38;5;21m__await_impl__\u001b[39m(\u001b[38;5;28mself\u001b[39m) \u001b[38;5;241m-\u001b[39m\u001b[38;5;241m>\u001b[39m WebSocketClientProtocol:\n\u001b[0;32m    621\u001b[0m     \u001b[38;5;28;01mfor\u001b[39;00m redirects \u001b[38;5;129;01min\u001b[39;00m \u001b[38;5;28mrange\u001b[39m(\u001b[38;5;28mself\u001b[39m\u001b[38;5;241m.\u001b[39mMAX_REDIRECTS_ALLOWED):\n\u001b[1;32m--> 622\u001b[0m         transport, protocol \u001b[38;5;241m=\u001b[39m \u001b[38;5;28;01mawait\u001b[39;00m \u001b[38;5;28mself\u001b[39m\u001b[38;5;241m.\u001b[39m_create_connection()\n\u001b[0;32m    623\u001b[0m         \u001b[38;5;66;03m# https://github.com/python/typeshed/pull/2756\u001b[39;00m\n\u001b[0;32m    624\u001b[0m         transport \u001b[38;5;241m=\u001b[39m cast(asyncio\u001b[38;5;241m.\u001b[39mTransport, transport)\n",
      "File \u001b[1;32m~\\AppData\\Local\\Programs\\Python\\Python39\\lib\\asyncio\\base_events.py:1081\u001b[0m, in \u001b[0;36mBaseEventLoop.create_connection\u001b[1;34m(self, protocol_factory, host, port, ssl, family, proto, flags, sock, local_addr, server_hostname, ssl_handshake_timeout, happy_eyeballs_delay, interleave)\u001b[0m\n\u001b[0;32m   1071\u001b[0m     \u001b[38;5;28;01mif\u001b[39;00m sock\u001b[38;5;241m.\u001b[39mtype \u001b[38;5;241m!=\u001b[39m socket\u001b[38;5;241m.\u001b[39mSOCK_STREAM:\n\u001b[0;32m   1072\u001b[0m         \u001b[38;5;66;03m# We allow AF_INET, AF_INET6, AF_UNIX as long as they\u001b[39;00m\n\u001b[0;32m   1073\u001b[0m         \u001b[38;5;66;03m# are SOCK_STREAM.\u001b[39;00m\n\u001b[1;32m   (...)\u001b[0m\n\u001b[0;32m   1076\u001b[0m         \u001b[38;5;66;03m# Disallowing AF_UNIX in this method, breaks backwards\u001b[39;00m\n\u001b[0;32m   1077\u001b[0m         \u001b[38;5;66;03m# compatibility.\u001b[39;00m\n\u001b[0;32m   1078\u001b[0m         \u001b[38;5;28;01mraise\u001b[39;00m \u001b[38;5;167;01mValueError\u001b[39;00m(\n\u001b[0;32m   1079\u001b[0m             \u001b[38;5;124mf\u001b[39m\u001b[38;5;124m'\u001b[39m\u001b[38;5;124mA Stream Socket was expected, got \u001b[39m\u001b[38;5;132;01m{\u001b[39;00msock\u001b[38;5;132;01m!r}\u001b[39;00m\u001b[38;5;124m'\u001b[39m)\n\u001b[1;32m-> 1081\u001b[0m transport, protocol \u001b[38;5;241m=\u001b[39m \u001b[38;5;28;01mawait\u001b[39;00m \u001b[38;5;28mself\u001b[39m\u001b[38;5;241m.\u001b[39m_create_connection_transport(\n\u001b[0;32m   1082\u001b[0m     sock, protocol_factory, ssl, server_hostname,\n\u001b[0;32m   1083\u001b[0m     ssl_handshake_timeout\u001b[38;5;241m=\u001b[39mssl_handshake_timeout)\n\u001b[0;32m   1084\u001b[0m \u001b[38;5;28;01mif\u001b[39;00m \u001b[38;5;28mself\u001b[39m\u001b[38;5;241m.\u001b[39m_debug:\n\u001b[0;32m   1085\u001b[0m     \u001b[38;5;66;03m# Get the socket from the transport because SSL transport closes\u001b[39;00m\n\u001b[0;32m   1086\u001b[0m     \u001b[38;5;66;03m# the old socket and creates a new SSL socket\u001b[39;00m\n\u001b[0;32m   1087\u001b[0m     sock \u001b[38;5;241m=\u001b[39m transport\u001b[38;5;241m.\u001b[39mget_extra_info(\u001b[38;5;124m'\u001b[39m\u001b[38;5;124msocket\u001b[39m\u001b[38;5;124m'\u001b[39m)\n",
      "File \u001b[1;32m~\\AppData\\Local\\Programs\\Python\\Python39\\lib\\asyncio\\base_events.py:1111\u001b[0m, in \u001b[0;36mBaseEventLoop._create_connection_transport\u001b[1;34m(self, sock, protocol_factory, ssl, server_hostname, server_side, ssl_handshake_timeout)\u001b[0m\n\u001b[0;32m   1108\u001b[0m     transport \u001b[38;5;241m=\u001b[39m \u001b[38;5;28mself\u001b[39m\u001b[38;5;241m.\u001b[39m_make_socket_transport(sock, protocol, waiter)\n\u001b[0;32m   1110\u001b[0m \u001b[38;5;28;01mtry\u001b[39;00m:\n\u001b[1;32m-> 1111\u001b[0m     \u001b[38;5;28;01mawait\u001b[39;00m waiter\n\u001b[0;32m   1112\u001b[0m \u001b[38;5;28;01mexcept\u001b[39;00m:\n\u001b[0;32m   1113\u001b[0m     transport\u001b[38;5;241m.\u001b[39mclose()\n",
      "\u001b[1;31mCancelledError\u001b[0m: "
     ]
    }
   ],
   "source": [
    "df = pd.DataFrame()\n",
    "open_position = False\n",
    "\n",
    "async with stream as receiver:\n",
    "    while True:\n",
    "        data = await receiver.recv()\n",
    "        data = json.loads(data)['data']\n",
    "        df = df.append(createframe(data))\n",
    "        if len(df) > 30:\n",
    "            if not open_position:\n",
    "                #* Para abrir posición: el roc en determinado instante debe ser mayor a 0 y el roc inmediato anterior \n",
    "                #* no debe estar por encima de cero\n",
    "                if ta.momentum.roc(df.Price,30).iloc[-1]>0 and \\\n",
    "                    ta.momentum.roc(df.Price,30).iloc[-2]: \n",
    "\n",
    "                    order = client.create_order(symbol='ADAUSDT', side='BUY', type='MARKET',quantity='50')\n",
    "                    print(order)\n",
    "                    open_position= True\n",
    "                    buyprice = float(order['fills'][0]['price'])\n",
    "            if open_position:        \n",
    "                subdf = df[df.Time>= pd.to_datetime(order['transactTime'],unit='ms')] # only the dataframe after we bought the asset. The first value is gotten at the transactTime\n",
    "                if len(subdf) >1: #decide after when a new value get into the newdataset\n",
    "                    subdf['highest'] = subdf.Price.cummax() # cumulative max function\n",
    "                    subdf['traili ngstop'] = subdf['highest']*0.995\n",
    "                    if subdf.iloc[-1].Price < subdf.iloc[-1].trailingstop or \\\n",
    "                        df.iloc[-1].Price / buyprice >1.002:\n",
    "                        order = client.create_order(symbol='ADAUSDT', side='SELL', type='MARKET',quantity='50')\n",
    "                        print(order)\n",
    "                        sellprice = float(order['fills'][0]['price'])\n",
    "                        print(f\"You made {(sellprice-buyprice)/buyprice} profit\")\n",
    "                        open_position= False\n",
    "            print(df.iloc[-1]) "
   ]
  }
 ],
 "metadata": {
  "interpreter": {
   "hash": "227cbb5243ae35d310ff0ed262f23f00f912b997ae58f4437979a034a602c480"
  },
  "kernelspec": {
   "display_name": "Python 3.9.7 64-bit ('virtual': venv)",
   "language": "python",
   "name": "python3"
  },
  "language_info": {
   "codemirror_mode": {
    "name": "ipython",
    "version": 3
   },
   "file_extension": ".py",
   "mimetype": "text/x-python",
   "name": "python",
   "nbconvert_exporter": "python",
   "pygments_lexer": "ipython3",
   "version": "3.9.7"
  },
  "orig_nbformat": 4
 },
 "nbformat": 4,
 "nbformat_minor": 2
}
