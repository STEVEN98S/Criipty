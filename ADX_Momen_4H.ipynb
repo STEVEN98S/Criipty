{
 "cells": [
  {
   "cell_type": "markdown",
   "id": "214a48cf-11ba-4270-92e0-8d486e526015",
   "metadata": {},
   "source": [
    "    Se realiza el backtesting de la estrategia del ADX + Momentum indicator en temporalidad de 4H.\n",
    "    El backtesting utilizará un timeWindow de 2 año\n",
    "    Estrategia:\n",
    "           Entrada en long:\n",
    "                            -Tendencia alcista\n",
    "                            -Direccionalidad alcista\n",
    "                            -Pendiente negativa\n",
    "                            -ema de 10 tocando la ema de 55 por encima     \n",
    "            Entrada en short:\n",
    "                            -Tendencia bajista\n",
    "                            -Direccionalidad bajista\n",
    "                            -Pendiente negativa\n",
    "                            -ema de 10 tocando la ema de 55 por debajo"
   ]
  },
  {
   "cell_type": "code",
   "execution_count": null,
   "id": "0cb57e07-c70b-4cb6-b64c-a429d82deaac",
   "metadata": {},
   "outputs": [],
   "source": [
    "from binance import Client\n",
    "from ADX_Moment_4H_tools import *\n",
    "from sqlalchemy import create_engine\n",
    "#engine = create_engine('sqlite:///DayTendency.db')\n",
    "\n",
    "api_key = 'OP46t00GHZ3c505N9Ne9l1u92CQ4Vquk43y4844bC2toKblnuI0cM8dkYeTha9ZK'\n",
    "secret_key = 'OJj37klrLOfD6T7E08lR0nWseH44CNP3meyoIwVWZRxMeopeE9R0BRfGsQ01Tiyd'\n"
   ]
  }
 ],
 "metadata": {
  "kernelspec": {
   "display_name": "Python 3 (ipykernel)",
   "language": "python",
   "name": "python3"
  },
  "language_info": {
   "codemirror_mode": {
    "name": "ipython",
    "version": 3
   },
   "file_extension": ".py",
   "mimetype": "text/x-python",
   "name": "python",
   "nbconvert_exporter": "python",
   "pygments_lexer": "ipython3",
   "version": "3.7.12"
  }
 },
 "nbformat": 4,
 "nbformat_minor": 5
}
