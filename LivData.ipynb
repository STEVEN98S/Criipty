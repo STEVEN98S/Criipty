{
 "cells": [
  {
   "cell_type": "code",
   "execution_count": 3,
   "metadata": {},
   "outputs": [
    {
     "data": {
      "text/plain": [
       "' Live Trainding with Python and Binance\\n\\nStep 1) Request live data from Binance via API\\nStep 2) Data cleaning and Store it in SQLite\\nStep 3) Data Base update every second\\nStep 4) Get data from DB, apply Strategy and Excecute Order\\nStep 5) Order Execution \\n\\n'"
      ]
     },
     "execution_count": 3,
     "metadata": {},
     "output_type": "execute_result"
    }
   ],
   "source": [
    "\"\"\" Live Trainding with Python and Binance\n",
    "\n",
    "Step 1) Request live data from Binance via API\n",
    "Step 2) Data cleaning and Store it in SQLite\n",
    "Step 3) Data Base update every second\n",
    "\n",
    "\n",
    "\"\"\""
   ]
  },
  {
   "cell_type": "code",
   "execution_count": 1,
   "metadata": {},
   "outputs": [],
   "source": [
    "from binance.client import Client\n",
    "import pandas as pd\n",
    "import sqlalchemy\n",
    "import asyncio\n",
    "from binance import AsyncClient, BinanceSocketManager\n",
    "import nest_asyncio\n",
    "nest_asyncio.apply()\n"
   ]
  },
  {
   "cell_type": "code",
   "execution_count": 2,
   "metadata": {},
   "outputs": [],
   "source": [
    "%run Keys.py\n",
    "client = Client(api_key,secret_key)\n"
   ]
  },
  {
   "cell_type": "code",
   "execution_count": 3,
   "metadata": {},
   "outputs": [],
   "source": [
    "# Request data using socket manager\n",
    "\n",
    "bsm= BinanceSocketManager(client)\n",
    "socket = bsm.trade_socket('BTCUSDT')"
   ]
  },
  {
   "cell_type": "code",
   "execution_count": 4,
   "metadata": {},
   "outputs": [],
   "source": [
    "\n",
    "#* Step 2: Cleaning\n",
    "def createframe(msg):\n",
    "    \"\"\"\n",
    "    Transform the msg from the binance socket manager and transformer it to a dataframe\n",
    "    Input:\n",
    "            msg: form socket manager\n",
    "    Ouput:\n",
    "            df: Dataframe with symbol, Time and Price\n",
    "    \"\"\"\n",
    "    df =pd.DataFrame([msg])\n",
    "    df =df.loc[:,['s','E','p']]\n",
    "    df.columns = ['symbol', 'Time','Price']\n",
    "    df.Price =df.Price.astype(float)\n",
    "    df.Time = pd.to_datetime(df.Time, unit='ms') # readable time format\n",
    "    return df"
   ]
  },
  {
   "cell_type": "code",
   "execution_count": 5,
   "metadata": {},
   "outputs": [],
   "source": [
    "async def main(): #! Stop manuanly\n",
    "    engine = sqlalchemy.create_engine('sqlite:///BTCUSDTstream.db')\n",
    "    client = await AsyncClient.create()\n",
    "    \n",
    "    bsm = BinanceSocketManager(client)  # set the socketManager #? for what is the user_timeout parametere?\n",
    "    # start any sockets here, i.e a trade socket\n",
    "    ts = bsm.trade_socket('BTCUSDT')  # pull data (candel, stick, price, etc)\n",
    "   \n",
    "    # then start receiving messages\n",
    "    async with ts as tscm:\n",
    "        while True:\n",
    "            msg = await tscm.recv()\n",
    "            #* Step 2: Cleaning\n",
    "            if msg:\n",
    "                frame = createframe(msg)\n",
    "                #* Step 3: Update DB\n",
    "                frame.to_sql('BTCUSDT',engine,if_exists ='append',index=False)\n",
    "    await client.close_connection()\n",
    "\n",
    "if __name__ == \"__main__\":\n",
    "\n",
    "    loop = asyncio.get_event_loop()\n",
    "    loop.run_until_complete(main())"
   ]
  }
 ],
 "metadata": {
  "interpreter": {
   "hash": "227cbb5243ae35d310ff0ed262f23f00f912b997ae58f4437979a034a602c480"
  },
  "kernelspec": {
   "display_name": "Python 3.9.7 64-bit ('virtual': venv)",
   "language": "python",
   "name": "python3"
  },
  "language_info": {
   "codemirror_mode": {
    "name": "ipython",
    "version": 3
   },
   "file_extension": ".py",
   "mimetype": "text/x-python",
   "name": "python",
   "nbconvert_exporter": "python",
   "pygments_lexer": "ipython3",
   "version": "3.9.7"
  },
  "orig_nbformat": 4
 },
 "nbformat": 4,
 "nbformat_minor": 2
}
