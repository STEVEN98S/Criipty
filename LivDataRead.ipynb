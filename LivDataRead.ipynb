{
 "cells": [
  {
   "cell_type": "code",
   "execution_count": 10,
   "metadata": {},
   "outputs": [
    {
     "data": {
      "text/plain": [
       "' Live Trainding with Python and Binance\\n\\nStep 4) Get data from DB, apply Strategy and Excecute Order\\nStep 5) Order Execution \\n\\n'"
      ]
     },
     "execution_count": 10,
     "metadata": {},
     "output_type": "execute_result"
    }
   ],
   "source": [
    "\"\"\" Live Trainding with Python and Binance\n",
    "\n",
    "Step 4) Get data from DB, apply Strategy and Excecute Order\n",
    "Step 5) Order Execution \n",
    "\n",
    "\"\"\""
   ]
  },
  {
   "cell_type": "code",
   "execution_count": 5,
   "metadata": {},
   "outputs": [],
   "source": [
    "import pandas as pd \n",
    "from binance.client import Client\n",
    "import sqlalchemy\n",
    "\n",
    "%run Keys.py\n",
    "client = Client(api_key,secret_key)\n"
   ]
  },
  {
   "cell_type": "code",
   "execution_count": 6,
   "metadata": {},
   "outputs": [],
   "source": [
    "# Step 4 : Get data from Database\n",
    "\n",
    "engine = sqlalchemy.create_engine('sqlite:///BTCUSDTstream.db')\n",
    "df = pd.read_sql('BTCUSDT', engine)"
   ]
  },
  {
   "cell_type": "code",
   "execution_count": null,
   "metadata": {},
   "outputs": [],
   "source": [
    "\"\"\"\n",
    "    Trendfollowing\n",
    "    If the crypto was rising by z% -> Buy\n",
    "    exit whe progit is above 0.15% or loss is crossing -0.15%\n",
    "\"\"\""
   ]
  },
  {
   "cell_type": "code",
   "execution_count": 7,
   "metadata": {},
   "outputs": [],
   "source": [
    "def strategy(entry, lookback, qty, open_position=False):\n",
    "    while   True:\n",
    "        df = pd.read_sql('BTCUSDT', engine)\n",
    "        lookbackperiod = df.iloc[-lookback:]\n",
    "        cumret = (lookbackperiod.Price.pct_change()+1).cumprod()-1\n",
    "\n",
    "        if not open_position:\n",
    "            if cumret[cumret.last_valid_index()] > entry :\n",
    "                #order = client.create_order(symbol='BTCUSDT', side='Buy', type= 'MARKET',quatity=qty)\n",
    "                df = pd.read_sql('BTCUSDT', engine)\n",
    "                time_order= df.Time[df.last_valid_index()]\n",
    "                print(\"order buy\")\n",
    "                open_position = True\n",
    "                break\n",
    "    if open_position:\n",
    "            while True:\n",
    "                df = pd.read_sql('BTCUSDT', engine)\n",
    "                #sincebuy =df.loc[df.Time > pd.to_datetime(order['transactTime'],units='ms')]\n",
    "                sincebuy =df.loc[df.Time > pd.to_datetime(time_order,units='ms')]\n",
    "                if len(sincebuy)>1: #* Es necesario q pase al menos un segundo para decidir si vender o esperar\n",
    "                    sincebuyret = (sincebuy.Price.pct_change()+1).cumprod()-1\n",
    "                    \n",
    "                    last_entry = sincebuyret[sincebuyret.last_valid_index()]\n",
    "                    if last_entry > 0.0015 or last_entry < -0.0015:\n",
    "                        #order = client.create_order(symbol='BTCUSDT', side='Sell', type= 'MARKET',quatity=qty)\n",
    "                        print(\"order sell\")\n",
    "                        break"
   ]
  },
  {
   "cell_type": "code",
   "execution_count": 8,
   "metadata": {},
   "outputs": [],
   "source": [
    "strategy(0.001,60,0.001)"
   ]
  },
  {
   "cell_type": "code",
   "execution_count": null,
   "metadata": {},
   "outputs": [],
   "source": []
  }
 ],
 "metadata": {
  "interpreter": {
   "hash": "42c27a54fa5d140bc0a88f78d37b2b4a0f1e7bc3ecf67b6cafbd2a6788cd38ed"
  },
  "kernelspec": {
   "display_name": "Python 3.9.7 64-bit",
   "language": "python",
   "name": "python3"
  },
  "language_info": {
   "codemirror_mode": {
    "name": "ipython",
    "version": 3
   },
   "file_extension": ".py",
   "mimetype": "text/x-python",
   "name": "python",
   "nbconvert_exporter": "python",
   "pygments_lexer": "ipython3",
   "version": "3.9.7"
  },
  "orig_nbformat": 4
 },
 "nbformat": 4,
 "nbformat_minor": 2
}
